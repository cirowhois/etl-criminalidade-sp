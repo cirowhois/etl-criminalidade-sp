{
 "cells": [
  {
   "cell_type": "code",
   "execution_count": 1,
   "metadata": {},
   "outputs": [],
   "source": [
    "from src.utils import get_sedona, setup_logger\n",
    "import geopandas as gpd\n",
    "import pandas as pd\n",
    "import fiona\n",
    "import pyspark.sql.functions as f\n",
    "from sedona.spark import *\n",
    "import logging\n",
    "import time\n"
   ]
  },
  {
   "cell_type": "code",
   "execution_count": 2,
   "metadata": {},
   "outputs": [
    {
     "name": "stderr",
     "output_type": "stream",
     "text": [
      "25/03/19 21:48:43 WARN Utils: Your hostname, cirowhois resolves to a loopback address: 127.0.1.1; using 192.168.15.6 instead (on interface wlp0s20f3)\n",
      "25/03/19 21:48:43 WARN Utils: Set SPARK_LOCAL_IP if you need to bind to another address\n",
      "https://artifacts.unidata.ucar.edu/repository/unidata-all added as a remote repository with the name: repo-1\n"
     ]
    },
    {
     "name": "stdout",
     "output_type": "stream",
     "text": [
      ":: loading settings :: url = jar:file:/home/cirowhois/CODE/etl-criminalidade-sp/venv/lib/python3.12/site-packages/pyspark/jars/ivy-2.5.1.jar!/org/apache/ivy/core/settings/ivysettings.xml\n"
     ]
    },
    {
     "name": "stderr",
     "output_type": "stream",
     "text": [
      "Ivy Default Cache set to: /home/cirowhois/.ivy2/cache\n",
      "The jars for the packages stored in: /home/cirowhois/.ivy2/jars\n",
      "org.apache.sedona#sedona-spark-3.5_2.12 added as a dependency\n",
      "org.datasyslab#geotools-wrapper added as a dependency\n",
      ":: resolving dependencies :: org.apache.spark#spark-submit-parent-2b3b0043-551d-4955-b0be-156144f26ebd;1.0\n",
      "\tconfs: [default]\n",
      "\tfound org.apache.sedona#sedona-spark-3.5_2.12;1.7.0 in central\n",
      "\tfound org.apache.sedona#sedona-common;1.7.0 in central\n",
      "\tfound org.apache.commons#commons-math3;3.6.1 in central\n",
      "\tfound org.locationtech.jts#jts-core;1.20.0 in central\n",
      "\tfound org.wololo#jts2geojson;0.16.1 in central\n",
      "\tfound org.locationtech.spatial4j#spatial4j;0.8 in central\n",
      "\tfound com.google.geometry#s2-geometry;2.0.0 in central\n",
      "\tfound com.google.guava#guava;25.1-jre in central\n",
      "\tfound com.google.code.findbugs#jsr305;3.0.2 in central\n",
      "\tfound org.checkerframework#checker-qual;2.0.0 in central\n",
      "\tfound com.google.errorprone#error_prone_annotations;2.1.3 in central\n",
      "\tfound com.google.j2objc#j2objc-annotations;1.1 in central\n",
      "\tfound org.codehaus.mojo#animal-sniffer-annotations;1.14 in central\n",
      "\tfound com.uber#h3;4.1.1 in central\n",
      "\tfound net.sf.geographiclib#GeographicLib-Java;1.52 in central\n",
      "\tfound com.github.ben-manes.caffeine#caffeine;2.9.2 in central\n",
      "\tfound org.checkerframework#checker-qual;3.10.0 in central\n",
      "\tfound com.google.errorprone#error_prone_annotations;2.5.1 in central\n",
      "\tfound org.apache.sedona#sedona-spark-common-3.5_2.12;1.7.0 in central\n",
      "\tfound org.xerial#sqlite-jdbc;3.41.2.2 in central\n",
      "\tfound commons-lang#commons-lang;2.6 in central\n",
      "\tfound graphframes#graphframes;0.8.3-spark3.5-s_2.12 in spark-packages\n",
      "\tfound org.slf4j#slf4j-api;1.7.36 in central\n",
      "\tfound org.scala-lang.modules#scala-collection-compat_2.12;2.5.0 in central\n",
      "\tfound org.beryx#awt-color-factory;1.0.0 in central\n",
      "\tfound org.datasyslab#geotools-wrapper;1.7.0-28.5 in central\n",
      ":: resolution report :: resolve 1447ms :: artifacts dl 67ms\n",
      "\t:: modules in use:\n",
      "\tcom.github.ben-manes.caffeine#caffeine;2.9.2 from central in [default]\n",
      "\tcom.google.code.findbugs#jsr305;3.0.2 from central in [default]\n",
      "\tcom.google.errorprone#error_prone_annotations;2.5.1 from central in [default]\n",
      "\tcom.google.geometry#s2-geometry;2.0.0 from central in [default]\n",
      "\tcom.google.guava#guava;25.1-jre from central in [default]\n",
      "\tcom.google.j2objc#j2objc-annotations;1.1 from central in [default]\n",
      "\tcom.uber#h3;4.1.1 from central in [default]\n",
      "\tcommons-lang#commons-lang;2.6 from central in [default]\n",
      "\tgraphframes#graphframes;0.8.3-spark3.5-s_2.12 from spark-packages in [default]\n",
      "\tnet.sf.geographiclib#GeographicLib-Java;1.52 from central in [default]\n",
      "\torg.apache.commons#commons-math3;3.6.1 from central in [default]\n",
      "\torg.apache.sedona#sedona-common;1.7.0 from central in [default]\n",
      "\torg.apache.sedona#sedona-spark-3.5_2.12;1.7.0 from central in [default]\n",
      "\torg.apache.sedona#sedona-spark-common-3.5_2.12;1.7.0 from central in [default]\n",
      "\torg.beryx#awt-color-factory;1.0.0 from central in [default]\n",
      "\torg.checkerframework#checker-qual;3.10.0 from central in [default]\n",
      "\torg.codehaus.mojo#animal-sniffer-annotations;1.14 from central in [default]\n",
      "\torg.datasyslab#geotools-wrapper;1.7.0-28.5 from central in [default]\n",
      "\torg.locationtech.jts#jts-core;1.20.0 from central in [default]\n",
      "\torg.locationtech.spatial4j#spatial4j;0.8 from central in [default]\n",
      "\torg.scala-lang.modules#scala-collection-compat_2.12;2.5.0 from central in [default]\n",
      "\torg.slf4j#slf4j-api;1.7.36 from central in [default]\n",
      "\torg.wololo#jts2geojson;0.16.1 from central in [default]\n",
      "\torg.xerial#sqlite-jdbc;3.41.2.2 from central in [default]\n",
      "\t:: evicted modules:\n",
      "\torg.checkerframework#checker-qual;2.0.0 by [org.checkerframework#checker-qual;3.10.0] in [default]\n",
      "\tcom.google.errorprone#error_prone_annotations;2.1.3 by [com.google.errorprone#error_prone_annotations;2.5.1] in [default]\n",
      "\t---------------------------------------------------------------------\n",
      "\t|                  |            modules            ||   artifacts   |\n",
      "\t|       conf       | number| search|dwnlded|evicted|| number|dwnlded|\n",
      "\t---------------------------------------------------------------------\n",
      "\t|      default     |   26  |   0   |   0   |   2   ||   24  |   0   |\n",
      "\t---------------------------------------------------------------------\n",
      ":: retrieving :: org.apache.spark#spark-submit-parent-2b3b0043-551d-4955-b0be-156144f26ebd\n",
      "\tconfs: [default]\n",
      "\t0 artifacts copied, 24 already retrieved (0kB/29ms)\n",
      "25/03/19 21:48:46 WARN NativeCodeLoader: Unable to load native-hadoop library for your platform... using builtin-java classes where applicable\n",
      "Setting default log level to \"WARN\".\n",
      "To adjust logging level use sc.setLogLevel(newLevel). For SparkR, use setLogLevel(newLevel).\n",
      "                                                                                \r"
     ]
    }
   ],
   "source": [
    "logger = setup_logger(\"EVALUATION\", level=logging.DEBUG)\n",
    "\n",
    "config_path = 'src/config.json'\n",
    "sedona = get_sedona(config_path)"
   ]
  },
  {
   "cell_type": "markdown",
   "metadata": {},
   "source": [
    "## Dissolve\n",
    "Teste de tempo comparando GeoPandas x Sedona para dissolver o campo de município (CD_MUN) e sua respectiva geometria de um geodataset de Setores Censitários do Brasil com 472.780 geometrias complexas.\n",
    "\n",
    "* [GeoPandas: gdf.dissolve()](https://geopandas.org/en/stable/docs/reference/api/geopandas.GeoDataFrame.dissolve.html)\n",
    "* [Sedona: ST_Union_Aggr](https://sedona.apache.org/1.5.0/api/sql/AggregateFunction/#st_union_aggr)"
   ]
  },
  {
   "cell_type": "code",
   "execution_count": 3,
   "metadata": {},
   "outputs": [
    {
     "name": "stderr",
     "output_type": "stream",
     "text": [
      "25/03/19 21:49:03 WARN GeoPackageScan: Loading one large unsplittable file file:/home/cirowhois/CODE/etl-criminalidade-sp/src/data/landing_area/ibge/scs/BR_setores_CD2022.gpkg with only one partition, the reason is: undefined\n",
      "25/03/19 21:49:03 WARN GeoPackageScan: Loading one large unsplittable file file:/home/cirowhois/CODE/etl-criminalidade-sp/src/data/landing_area/ibge/scs/BR_setores_CD2022.gpkg with only one partition, the reason is: undefined\n",
      "25/03/19 21:49:03 WARN SparkStringUtils: Truncated the string representation of a plan since it was too large. This behavior can be adjusted by setting 'spark.sql.debug.maxToStringFields'.\n",
      "[Stage 5:=====================================================>   (17 + 1) / 18]\r"
     ]
    },
    {
     "name": "stdout",
     "output_type": "stream",
     "text": [
      "2025-03-19 21:53:23 - EVALUATION - INFO - dissolve_sedona: 261.6176338195801s\n"
     ]
    },
    {
     "name": "stderr",
     "output_type": "stream",
     "text": [
      "                                                                                \r"
     ]
    },
    {
     "name": "stdout",
     "output_type": "stream",
     "text": [
      "2025-03-19 22:03:25 - EVALUATION - INFO - dissolve_geopandas: 601.6481568813324s\n"
     ]
    }
   ],
   "source": [
    "file = 'src/data/landing_area/ibge/scs/BR_setores_CD2022.gpkg'\n",
    "\n",
    "# Sedona\n",
    "def test_dissolve_sedona():\n",
    "    start_time = time.time()\n",
    "    # read\n",
    "    data = sedona.read.format(\"geopackage\").option(\"tableName\", 'BR_setores_CD2022').load(file)\n",
    "    # dissolve\n",
    "    dissolved = data.groupBy(\"CD_MUN\",\"NM_MUN\", \"CD_UF\").agg(f.expr(\"ST_Union_Aggr(ST_Transform(geom,'epsg:4674','epsg:4326'))\").alias(\"geom\"))\n",
    "    # write\n",
    "    dissolved.write.mode('overwrite')\\\n",
    "                  .format('parquet')\\\n",
    "                  .parquet('evaluation/dissolve/sedona/')\n",
    "    elapsed_time = time.time() - start_time\n",
    "    logger.info(f'dissolve_sedona: {elapsed_time}s')\n",
    "\n",
    "test_dissolve_sedona()\n",
    "    \n",
    "# Geopandas\n",
    "def test_dissolve_geopandas():\n",
    "    start_time = time.time()\n",
    "    # read\n",
    "    data = gpd.read_file(file)\n",
    "    # dissolve\n",
    "    dissolved = data.dissolve(by=[\"CD_MUN\", \"NM_MUN\", \"CD_UF\"]).reset_index().to_crs(4326)\n",
    "    # write\n",
    "    dissolved[['CD_MUN','NM_MUN','CD_UF','geometry']].to_parquet('evaluation/dissolve/geopandas/mun_dissolved.parquet')\n",
    "    elapsed_time = time.time() - start_time\n",
    "    logger.info(f'dissolve_geopandas: {elapsed_time}s')\n",
    "\n",
    "test_dissolve_geopandas()\n"
   ]
  }
 ],
 "metadata": {
  "kernelspec": {
   "display_name": "venv",
   "language": "python",
   "name": "python3"
  },
  "language_info": {
   "codemirror_mode": {
    "name": "ipython",
    "version": 3
   },
   "file_extension": ".py",
   "mimetype": "text/x-python",
   "name": "python",
   "nbconvert_exporter": "python",
   "pygments_lexer": "ipython3",
   "version": "3.12.3"
  }
 },
 "nbformat": 4,
 "nbformat_minor": 2
}
