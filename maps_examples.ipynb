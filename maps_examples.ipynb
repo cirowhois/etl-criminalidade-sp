{
 "cells": [
  {
   "cell_type": "code",
   "execution_count": 1,
   "metadata": {},
   "outputs": [],
   "source": [
    "from src.utils import get_sedona\n",
    "import geopandas as gpd\n",
    "from keplergl import KeplerGl\n",
    "import pandas as pd"
   ]
  },
  {
   "cell_type": "code",
   "execution_count": 2,
   "metadata": {},
   "outputs": [
    {
     "name": "stderr",
     "output_type": "stream",
     "text": [
      "25/03/16 23:19:29 WARN Utils: Your hostname, cirowhois resolves to a loopback address: 127.0.1.1; using 192.168.15.6 instead (on interface wlp0s20f3)\n",
      "25/03/16 23:19:29 WARN Utils: Set SPARK_LOCAL_IP if you need to bind to another address\n",
      "https://artifacts.unidata.ucar.edu/repository/unidata-all added as a remote repository with the name: repo-1\n"
     ]
    },
    {
     "name": "stdout",
     "output_type": "stream",
     "text": [
      ":: loading settings :: url = jar:file:/home/cirowhois/CODE/etl-criminalidade-sp/venv/lib/python3.12/site-packages/pyspark/jars/ivy-2.5.1.jar!/org/apache/ivy/core/settings/ivysettings.xml\n"
     ]
    },
    {
     "name": "stderr",
     "output_type": "stream",
     "text": [
      "Ivy Default Cache set to: /home/cirowhois/.ivy2/cache\n",
      "The jars for the packages stored in: /home/cirowhois/.ivy2/jars\n",
      "org.apache.sedona#sedona-spark-3.5_2.12 added as a dependency\n",
      "org.datasyslab#geotools-wrapper added as a dependency\n",
      ":: resolving dependencies :: org.apache.spark#spark-submit-parent-23d8889e-f1f9-4502-a4b6-ea7b788774ec;1.0\n",
      "\tconfs: [default]\n",
      "\tfound org.apache.sedona#sedona-spark-3.5_2.12;1.7.0 in central\n",
      "\tfound org.apache.sedona#sedona-common;1.7.0 in central\n",
      "\tfound org.apache.commons#commons-math3;3.6.1 in central\n",
      "\tfound org.locationtech.jts#jts-core;1.20.0 in central\n",
      "\tfound org.wololo#jts2geojson;0.16.1 in central\n",
      "\tfound org.locationtech.spatial4j#spatial4j;0.8 in central\n",
      "\tfound com.google.geometry#s2-geometry;2.0.0 in central\n",
      "\tfound com.google.guava#guava;25.1-jre in central\n",
      "\tfound com.google.code.findbugs#jsr305;3.0.2 in central\n",
      "\tfound org.checkerframework#checker-qual;2.0.0 in central\n",
      "\tfound com.google.errorprone#error_prone_annotations;2.1.3 in central\n",
      "\tfound com.google.j2objc#j2objc-annotations;1.1 in central\n",
      "\tfound org.codehaus.mojo#animal-sniffer-annotations;1.14 in central\n",
      "\tfound com.uber#h3;4.1.1 in central\n",
      "\tfound net.sf.geographiclib#GeographicLib-Java;1.52 in central\n",
      "\tfound com.github.ben-manes.caffeine#caffeine;2.9.2 in central\n",
      "\tfound org.checkerframework#checker-qual;3.10.0 in central\n",
      "\tfound com.google.errorprone#error_prone_annotations;2.5.1 in central\n",
      "\tfound org.apache.sedona#sedona-spark-common-3.5_2.12;1.7.0 in central\n",
      "\tfound org.xerial#sqlite-jdbc;3.41.2.2 in central\n",
      "\tfound commons-lang#commons-lang;2.6 in central\n",
      "\tfound graphframes#graphframes;0.8.3-spark3.5-s_2.12 in spark-packages\n",
      "\tfound org.slf4j#slf4j-api;1.7.36 in central\n",
      "\tfound org.scala-lang.modules#scala-collection-compat_2.12;2.5.0 in central\n",
      "\tfound org.beryx#awt-color-factory;1.0.0 in central\n",
      "\tfound org.datasyslab#geotools-wrapper;1.7.0-28.5 in central\n",
      ":: resolution report :: resolve 1791ms :: artifacts dl 78ms\n",
      "\t:: modules in use:\n",
      "\tcom.github.ben-manes.caffeine#caffeine;2.9.2 from central in [default]\n",
      "\tcom.google.code.findbugs#jsr305;3.0.2 from central in [default]\n",
      "\tcom.google.errorprone#error_prone_annotations;2.5.1 from central in [default]\n",
      "\tcom.google.geometry#s2-geometry;2.0.0 from central in [default]\n",
      "\tcom.google.guava#guava;25.1-jre from central in [default]\n",
      "\tcom.google.j2objc#j2objc-annotations;1.1 from central in [default]\n",
      "\tcom.uber#h3;4.1.1 from central in [default]\n",
      "\tcommons-lang#commons-lang;2.6 from central in [default]\n",
      "\tgraphframes#graphframes;0.8.3-spark3.5-s_2.12 from spark-packages in [default]\n",
      "\tnet.sf.geographiclib#GeographicLib-Java;1.52 from central in [default]\n",
      "\torg.apache.commons#commons-math3;3.6.1 from central in [default]\n",
      "\torg.apache.sedona#sedona-common;1.7.0 from central in [default]\n",
      "\torg.apache.sedona#sedona-spark-3.5_2.12;1.7.0 from central in [default]\n",
      "\torg.apache.sedona#sedona-spark-common-3.5_2.12;1.7.0 from central in [default]\n",
      "\torg.beryx#awt-color-factory;1.0.0 from central in [default]\n",
      "\torg.checkerframework#checker-qual;3.10.0 from central in [default]\n",
      "\torg.codehaus.mojo#animal-sniffer-annotations;1.14 from central in [default]\n",
      "\torg.datasyslab#geotools-wrapper;1.7.0-28.5 from central in [default]\n",
      "\torg.locationtech.jts#jts-core;1.20.0 from central in [default]\n",
      "\torg.locationtech.spatial4j#spatial4j;0.8 from central in [default]\n",
      "\torg.scala-lang.modules#scala-collection-compat_2.12;2.5.0 from central in [default]\n",
      "\torg.slf4j#slf4j-api;1.7.36 from central in [default]\n",
      "\torg.wololo#jts2geojson;0.16.1 from central in [default]\n",
      "\torg.xerial#sqlite-jdbc;3.41.2.2 from central in [default]\n",
      "\t:: evicted modules:\n",
      "\torg.checkerframework#checker-qual;2.0.0 by [org.checkerframework#checker-qual;3.10.0] in [default]\n",
      "\tcom.google.errorprone#error_prone_annotations;2.1.3 by [com.google.errorprone#error_prone_annotations;2.5.1] in [default]\n",
      "\t---------------------------------------------------------------------\n",
      "\t|                  |            modules            ||   artifacts   |\n",
      "\t|       conf       | number| search|dwnlded|evicted|| number|dwnlded|\n",
      "\t---------------------------------------------------------------------\n",
      "\t|      default     |   26  |   0   |   0   |   2   ||   24  |   0   |\n",
      "\t---------------------------------------------------------------------\n",
      ":: retrieving :: org.apache.spark#spark-submit-parent-23d8889e-f1f9-4502-a4b6-ea7b788774ec\n",
      "\tconfs: [default]\n",
      "\t0 artifacts copied, 24 already retrieved (0kB/27ms)\n",
      "25/03/16 23:19:32 WARN NativeCodeLoader: Unable to load native-hadoop library for your platform... using builtin-java classes where applicable\n",
      "Setting default log level to \"WARN\".\n",
      "To adjust logging level use sc.setLogLevel(newLevel). For SparkR, use setLogLevel(newLevel).\n",
      "                                                                                \r"
     ]
    }
   ],
   "source": [
    "config_path = 'src/config.json'\n",
    "sedona = get_sedona(config_path)"
   ]
  },
  {
   "cell_type": "markdown",
   "metadata": {},
   "source": [
    "# MUNICÍPIOS"
   ]
  },
  {
   "cell_type": "code",
   "execution_count": 4,
   "metadata": {},
   "outputs": [
    {
     "name": "stderr",
     "output_type": "stream",
     "text": [
      "25/03/16 21:42:53 WARN SparkStringUtils: Truncated the string representation of a plan since it was too large. This behavior can be adjusted by setting 'spark.sql.debug.maxToStringFields'.\n",
      "                                                                                \r"
     ]
    }
   ],
   "source": [
    "data_path = 'src/data/gold/tb_name=gold_crimes_mun/YEAR_INFO=2024'\n",
    "data = sedona.read.parquet(data_path)\n",
    "gdf = data.toPandas()\n",
    "gdf = gpd.GeoDataFrame(gdf,geometry='geom', crs=4326)"
   ]
  },
  {
   "cell_type": "code",
   "execution_count": 5,
   "metadata": {},
   "outputs": [
    {
     "name": "stdout",
     "output_type": "stream",
     "text": [
      "User Guide: https://docs.kepler.gl/docs/keplergl-jupyter\n"
     ]
    },
    {
     "data": {
      "application/vnd.jupyter.widget-view+json": {
       "model_id": "62485b3cc5f54fbc8d2fbe4574c43fbf",
       "version_major": 2,
       "version_minor": 0
      },
      "text/plain": [
       "KeplerGl(data={'São Paulo - Crimes': '{\"type\": \"FeatureCollection\", \"features\": [{\"id\": \"0\", \"type\": \"Feature\"…"
      ]
     },
     "metadata": {},
     "output_type": "display_data"
    }
   ],
   "source": [
    "gdf_2024_mun = gdf[['ID_MUN','MUN','STATE','TOTAL_CRIMES','FURTO_ROUBO_DE_CELULAR','FURTO_ROUBO_DE_VEICULO','POP_TOTAL','TOTAL_CRIME_INDEX','CELLPHONE_CRIME_INDEX','VEHICLE_CRIME_INDEX','geom']]\n",
    "\n",
    "\n",
    "\n",
    "mapa_mun = KeplerGl(height=600)\n",
    "mapa_mun.add_data(data=gdf_2024_mun.to_json(), name=\"São Paulo - Crimes\")\n",
    "\n",
    "\n",
    "mapa_mun"
   ]
  },
  {
   "cell_type": "code",
   "execution_count": null,
   "metadata": {},
   "outputs": [
    {
     "name": "stdout",
     "output_type": "stream",
     "text": [
      "Map saved to html/kepler/mapa_mun.html!\n"
     ]
    }
   ],
   "source": [
    "mapa_mun.save_to_html(file_name='html/kepler/mapa_mun_2024.html')"
   ]
  },
  {
   "cell_type": "markdown",
   "metadata": {},
   "source": [
    "# SCS"
   ]
  },
  {
   "cell_type": "code",
   "execution_count": 10,
   "metadata": {},
   "outputs": [
    {
     "name": "stderr",
     "output_type": "stream",
     "text": [
      "                                                                                \r"
     ]
    }
   ],
   "source": [
    "data_path = 'src/data/gold/tb_name=gold_crimes_scs/YEAR_INFO=2024'\n",
    "data = sedona.read.parquet(data_path).filter('ID_MUN in (3509502,3520509,3556701,3556206,3523404,3532009,3537107,3524709,3548005,3519055,3515152,3503802,3512803,3536505,3501608,3533403,3545803,3552403,3519071,3531803,3536505)')\n",
    "gdf = data.toPandas()\n",
    "gdf = gpd.GeoDataFrame(gdf,geometry='geom', crs=4326)"
   ]
  },
  {
   "cell_type": "code",
   "execution_count": 11,
   "metadata": {},
   "outputs": [
    {
     "name": "stdout",
     "output_type": "stream",
     "text": [
      "User Guide: https://docs.kepler.gl/docs/keplergl-jupyter\n"
     ]
    },
    {
     "data": {
      "application/vnd.jupyter.widget-view+json": {
       "model_id": "f03e7acca9e44f68a7cdff77f26c6bd2",
       "version_major": 2,
       "version_minor": 0
      },
      "text/plain": [
       "KeplerGl(data={'RMC - Crimes': '{\"type\": \"FeatureCollection\", \"features\": [{\"id\": \"0\", \"type\": \"Feature\", \"pro…"
      ]
     },
     "metadata": {},
     "output_type": "display_data"
    }
   ],
   "source": [
    "gdf_2024_scs = gdf[['ID_SC','MUN','STATE','TOTAL_CRIMES','FURTO_ROUBO_DE_CELULAR','FURTO_ROUBO_DE_VEICULO','POP_TOTAL','TOTAL_CRIME_INDEX','CELLPHONE_CRIME_INDEX','VEHICLE_CRIME_INDEX','geom']]\n",
    "\n",
    "mapa_scs = KeplerGl(height=600)\n",
    "mapa_scs.add_data(data=gdf_2024_scs.to_json(), name=\"RMC - Crimes\")\n",
    "\n",
    "mapa_scs"
   ]
  },
  {
   "cell_type": "code",
   "execution_count": null,
   "metadata": {},
   "outputs": [
    {
     "name": "stdout",
     "output_type": "stream",
     "text": [
      "Map saved to html/kepler/mapa_scs.html!\n"
     ]
    }
   ],
   "source": [
    "mapa_scs.save_to_html(file_name='html/kepler/mapa_scs_rmc_2024.html')"
   ]
  },
  {
   "cell_type": "markdown",
   "metadata": {},
   "source": [
    "# OCORRÊNCIAS"
   ]
  },
  {
   "cell_type": "code",
   "execution_count": 15,
   "metadata": {},
   "outputs": [
    {
     "name": "stderr",
     "output_type": "stream",
     "text": [
      "                                                                                \r"
     ]
    }
   ],
   "source": [
    "data_path = 'src/data/gold/tb_name=gold_crimes/'\n",
    "data = sedona.read.parquet(data_path) \\\n",
    "    .filter('ID_MUN in (3509502) AND YEAR_INFO > 2021') \\\n",
    "    .drop('DATE_PROCESSED')\n",
    "\n",
    "gdf = data.toPandas()\n",
    "gdf = gpd.GeoDataFrame(gdf,geometry='geom', crs=4326)\n",
    "gdf['DATE_CRIME'] = gdf['DAY_INFO'].astype(str) + '/' + gdf['MONTH_INFO'].astype(str) + '/' + gdf['YEAR_INFO'].astype(str)\n",
    "gdf['DATE_CRIME'] = pd.to_datetime(gdf['DATE_CRIME'], format='%d/%m/%Y', errors='coerce')\n",
    "gdf['DATE_CRIME'] = gdf['DATE_CRIME'].dt.strftime('%Y-%m-%d %H:%M:%S')\n",
    "gdf['lat'] = gdf.geom.y\n",
    "gdf['long'] = gdf.geom.x\n",
    "\n",
    "data_border = sedona.read.parquet('src/data/silver/tb_name=silver_mun').select('ID_MUN','MUN','STATE','geom').filter('ID_MUN in (3509502)')\n",
    "gdf_border = data_border.toPandas()\n",
    "gdf_border = gpd.GeoDataFrame(gdf_border,geometry='geom',crs=4326)"
   ]
  },
  {
   "cell_type": "code",
   "execution_count": 16,
   "metadata": {},
   "outputs": [
    {
     "name": "stdout",
     "output_type": "stream",
     "text": [
      "User Guide: https://docs.kepler.gl/docs/keplergl-jupyter\n"
     ]
    },
    {
     "data": {
      "application/vnd.jupyter.widget-view+json": {
       "model_id": "fc55beded06f4aadb95f9bc1de5b45ca",
       "version_major": 2,
       "version_minor": 0
      },
      "text/plain": [
       "KeplerGl(data={'Crimes - Campinas/SP': '{\"type\": \"FeatureCollection\", \"features\": [{\"id\": \"0\", \"type\": \"Featur…"
      ]
     },
     "metadata": {},
     "output_type": "display_data"
    }
   ],
   "source": [
    "mapa_geral = KeplerGl(height=800)\n",
    "mapa_geral.add_data(data=gdf.to_json(), name=\"Crimes - Campinas/SP\")\n",
    "mapa_geral.add_data(data=gdf_border.to_json(), name=\"Limite - Campinas/SP\")\n",
    "\n",
    "mapa_geral"
   ]
  },
  {
   "cell_type": "code",
   "execution_count": null,
   "metadata": {},
   "outputs": [
    {
     "name": "stdout",
     "output_type": "stream",
     "text": [
      "Map saved to html/kepler/mapa_geral.html!\n"
     ]
    }
   ],
   "source": [
    "mapa_geral.save_to_html(file_name='html/kepler/mapa_geral_campinas.html')"
   ]
  }
 ],
 "metadata": {
  "kernelspec": {
   "display_name": "venv",
   "language": "python",
   "name": "python3"
  },
  "language_info": {
   "codemirror_mode": {
    "name": "ipython",
    "version": 3
   },
   "file_extension": ".py",
   "mimetype": "text/x-python",
   "name": "python",
   "nbconvert_exporter": "python",
   "pygments_lexer": "ipython3",
   "version": "3.12.3"
  }
 },
 "nbformat": 4,
 "nbformat_minor": 2
}
